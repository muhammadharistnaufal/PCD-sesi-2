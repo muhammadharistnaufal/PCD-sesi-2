from google.colab import drive
drive.mount('/content/drive')
     
Mounted at /content/drive

import numpy as np
import cv2
import os

# Correct paths (escape backslashes or use raw strings)
paths = [
    r"/content/drive/My Drive/Semester 5/PCD/daun pepaya.jfif",
    r"/content/drive/My Drive/Semester 5/PCD/daun singkong.jfif",
    r"/content/drive/My Drive/Semester 5/PCD/daun kenikir.jfif"
]

# Memproses setiap gambar
def process_image(path):
    # Membaca gambar
    image_source = cv2.imread(path)

    if image_source is None:
        print(f"Error: Gambar {path} tidak ditemukan atau gagal dibaca!")
        return

    # Memisahkan channel RGB
    red_ch = image_source[:, :, 2]  # OpenCV uses BGR by default
    green_ch = image_source[:, :, 1]
    blue_ch = image_source[:, :, 0]

    # Membuat gambar untuk setiap channel
    image_red = np.zeros_like(image_source)
    image_green = np.zeros_like(image_source)
    image_blue = np.zeros_like(image_source)

    image_red[:, :, 2] = red_ch
    image_green[:, :, 1] = green_ch
    image_blue[:, :, 0] = blue_ch

    # Konversi ke grayscale
    image_grayscale = cv2.cvtColor(image_source, cv2.COLOR_BGR2GRAY)

    # Konversi ke threshold (biner)
    _, image_threshold = cv2.threshold(image_grayscale, 127, 255, cv2.THRESH_BINARY)

    # Membuat nama file tanpa ekstensi untuk penyimpanan
    file_name = os.path.basename(path).split('.')[0]

    # Simpan gambar hasil representasi setiap channel dan konversi
    cv2.imwrite(f"{file_name}_red.jpg", image_red)
    cv2.imwrite(f"{file_name}_green.jpg", image_green)
    cv2.imwrite(f"{file_name}_blue.jpg", image_blue)
    cv2.imwrite(f"{file_name}_grayscale.jpg", image_grayscale)
    cv2.imwrite(f"{file_name}_threshold.jpg", image_threshold)

    print(f"Gambar {file_name} telah diproses.")

# Proses semua gambar satu per satu
for path in paths:
    process_image(path)

print("Selesai!")

     
Gambar daun pepaya telah diproses.
Gambar daun singkong telah diproses.
Gambar daun kenikir telah diproses.
Selesai!
